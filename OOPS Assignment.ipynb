{
 "cells": [
  {
   "cell_type": "code",
   "execution_count": 3,
   "id": "cfbeb168-da64-41c1-98c7-607232b75e86",
   "metadata": {},
   "outputs": [],
   "source": [
    "#Q1.\n",
    "\n",
    "\"\"\"In OOP in Python, a class is a blueprint or a template that defines the characteristics (attributes) and behaviors (methods) that an object of that class will have.\n",
    "\n",
    "An object, on the other hand, is an instance of a class.\"\"\"\n",
    "\n",
    "#Following is an example that justifies both these nitty-gritty entities associated with OOP in Python.\n",
    "\n",
    "class Car:\n",
    "    def __init__(self, make, model, year, color):\n",
    "        self.make = make\n",
    "        self.model = model\n",
    "        self.year = year\n",
    "        self.color = color\n",
    "        \n",
    "    def start_engine(self):\n",
    "        print(f\"The {self.make} {self.model}'s engine is starting\")\n",
    "        \n",
    "    def stop_engine(self):\n",
    "        print(f\"The {self.make} {self.model}'s engine is stopping\")"
   ]
  },
  {
   "cell_type": "code",
   "execution_count": 5,
   "id": "8215405b-5255-4645-91b7-9ea1d6da7a11",
   "metadata": {},
   "outputs": [],
   "source": [
    "car1 = Car(\"Toyota\",\"Corolla\",2020, \"Black\")"
   ]
  },
  {
   "cell_type": "code",
   "execution_count": 6,
   "id": "40b914eb-d9f8-48d8-bad7-556e1a98cdf0",
   "metadata": {},
   "outputs": [
    {
     "name": "stdout",
     "output_type": "stream",
     "text": [
      "The Toyota Corolla's engine is starting\n"
     ]
    }
   ],
   "source": [
    "car1.start_engine()"
   ]
  },
  {
   "cell_type": "code",
   "execution_count": 7,
   "id": "64a81226-be6b-4c9d-96bb-923b54255bf0",
   "metadata": {},
   "outputs": [
    {
     "name": "stdout",
     "output_type": "stream",
     "text": [
      "The Toyota Corolla's engine is stopping\n"
     ]
    }
   ],
   "source": [
    "car1.stop_engine()"
   ]
  },
  {
   "cell_type": "code",
   "execution_count": 8,
   "id": "1b5cc0c0-dc05-43bd-896b-ccb100ccee0f",
   "metadata": {},
   "outputs": [],
   "source": [
    "#Q2. \n",
    "\n",
    "#Polymorphism, Encapsulation, Inheritance, and Abstraction are the four cornerstones for OOPs."
   ]
  },
  {
   "cell_type": "code",
   "execution_count": 9,
   "id": "3b001472-c3bd-4178-8557-50b71e285023",
   "metadata": {},
   "outputs": [],
   "source": [
    "#Q3.\n",
    "\n",
    "\"\"\"The \"__init__()\" function is a special method in Python classes and its main purpose is to set the initial state of an object by assigning values to its attributes. \n",
    "It allows one to define and initialize the attributes of an instance within the class definition itself.\"\"\"\n",
    "\n",
    "# An example representing the function is as follows.\n",
    "\n",
    "class Employee:\n",
    "    def __init__(self, name, age, department):\n",
    "        self.name = name\n",
    "        self.age = age\n",
    "        self.department = department\n",
    "        "
   ]
  },
  {
   "cell_type": "code",
   "execution_count": 10,
   "id": "55f32b6c-8320-4168-bd03-c5ab1d6fb042",
   "metadata": {},
   "outputs": [],
   "source": [
    "employee1 = Employee(\"Dhyana\", 37, \"Product Design\")"
   ]
  },
  {
   "cell_type": "code",
   "execution_count": 11,
   "id": "845ffcaa-ebf5-459d-b2f2-6d4a778741d5",
   "metadata": {},
   "outputs": [
    {
     "data": {
      "text/plain": [
       "37"
      ]
     },
     "execution_count": 11,
     "metadata": {},
     "output_type": "execute_result"
    }
   ],
   "source": [
    "employee1.age"
   ]
  },
  {
   "cell_type": "code",
   "execution_count": 12,
   "id": "43d6f549-ef4c-40fb-b0cd-9b3f01c60692",
   "metadata": {},
   "outputs": [
    {
     "data": {
      "text/plain": [
       "'Product Design'"
      ]
     },
     "execution_count": 12,
     "metadata": {},
     "output_type": "execute_result"
    }
   ],
   "source": [
    "employee1.department"
   ]
  },
  {
   "cell_type": "code",
   "execution_count": 13,
   "id": "4aed6b17-4f38-4826-9d55-5d350a19cef3",
   "metadata": {},
   "outputs": [
    {
     "data": {
      "text/plain": [
       "'Dhyana'"
      ]
     },
     "execution_count": 13,
     "metadata": {},
     "output_type": "execute_result"
    }
   ],
   "source": [
    "employee1.name"
   ]
  },
  {
   "cell_type": "code",
   "execution_count": 14,
   "id": "3013e60f-275f-4c3e-96a1-675b5678a249",
   "metadata": {},
   "outputs": [
    {
     "data": {
      "text/plain": [
       "\" 'self' allows the instance of a class to refer to its own attributes and methods. \\nWhen a method is called on an object, the object itself is automatically passed as the first argument to the method. \\nBy convention, this argument is named self, although it is okay to choose any name according to our preference.\""
      ]
     },
     "execution_count": 14,
     "metadata": {},
     "output_type": "execute_result"
    }
   ],
   "source": [
    "#Q4.\n",
    "# 'self' is used as a reference to the current instance of a class.\n",
    "\n",
    "\"\"\" 'self' allows the instance of a class to refer to its own attributes and methods. \n",
    "When a method is called on an object, the object itself is automatically passed as the first argument to the method. \n",
    "By convention, this argument is named self, although it is okay to choose any name according to our preference.\"\"\""
   ]
  },
  {
   "cell_type": "code",
   "execution_count": 35,
   "id": "15c734fa-8029-4431-829b-7ede0344cbc7",
   "metadata": {},
   "outputs": [],
   "source": [
    "#Q5.\n",
    "\n",
    "\"\"\"Inheritance is a rudimentary concept that allows a class to inherit the characteristics and behaviors (i.e. attributes and methods) of another class. \n",
    "It helps to fortify code reusability, modularity and forms a hierarchical relationship between classes.\n",
    "\n",
    "Inheritance enables the creation of a new class (called the derived class or subclass) based on an existing class (called the base class or superclass). \n",
    "The derived class inherits all the attributes and methods of the base class, allowing it to extend or modify the base class's functionality.\"\"\"\n",
    "\n",
    "class Book:\n",
    "    \n",
    "    def __init__(self, title, author):\n",
    "        self.title = title\n",
    "        self.author = author\n",
    "        \n",
    "    def display(self):\n",
    "        print(f\"Title: {self.title}\")\n",
    "        print(f\"Author: {self.author}\")\n",
    "\n",
    "        \n",
    "class Fiction(Book):\n",
    "    def __init__(self, title, author, genre):\n",
    "        super().__init__(title, author)\n",
    "        self.genre = genre #attribute 'genre' represents different categories of fiction books (e.g., mystery, romance, science fiction)\n",
    "        \n",
    "    def display(self):\n",
    "        super().display()\n",
    "        print(f\"Genre: {self.genre}\")\n",
    "        \n",
    "class NonFiction(Book):\n",
    "    \n",
    "    def __init__(self, title, author, topic):\n",
    "              super().__init__(title, author)\n",
    "              self.topic = topic #attribute 'topic' represents the topic or subject of the non-fiction book (e.g., history, science, self-help)\n",
    "        \n",
    "    def display(self):\n",
    "              super().display()\n",
    "              print(f\"Topic: {self.topic}\")\n",
    "        \n",
    "class Reference(Book):\n",
    "    \n",
    "    def __init__(self, title, author, Publication_format):\n",
    "              super().__init__(title, author)\n",
    "              self.Publication_format = Publication_format #attribute 'publication_format' represents the format of the reference book (e.g., hardcover, paperback, ebook)\n",
    "        \n",
    "    def display(self):\n",
    "              super().display()\n",
    "              print(f\"publication_format: {self.Publication_format}\")"
   ]
  },
  {
   "cell_type": "code",
   "execution_count": 36,
   "id": "afa96706-d133-4c4a-9570-47c34758c530",
   "metadata": {},
   "outputs": [],
   "source": [
    "book1 = Book(\"Freedom from the Known\", \"J. Krishnamurti\")\n",
    "fiction1 = Fiction(\"Siddhartha\", \"Hermann Hesse\", \"Philosophy\")\n",
    "nonfiction1 = NonFiction(\"The First and Last Freedom\", \"Jiddu Krishnamurti\", \"Objective Awareness\")\n",
    "reference1 = Reference(\"Sprint: How to Solve Big Problems and Test New Ideas in Just Five Days\",\"Jake Knapp\",\"Hardcover\")"
   ]
  },
  {
   "cell_type": "code",
   "execution_count": 37,
   "id": "f9678f4b-fe2d-4eab-ad06-1e1a06c2c6f6",
   "metadata": {},
   "outputs": [
    {
     "name": "stdout",
     "output_type": "stream",
     "text": [
      "Title: Freedom from the Known\n",
      "Author: J. Krishnamurti\n"
     ]
    }
   ],
   "source": [
    "book1.display()"
   ]
  },
  {
   "cell_type": "code",
   "execution_count": 38,
   "id": "cbb08aff-1fff-45af-b186-2570086c6cb6",
   "metadata": {},
   "outputs": [
    {
     "name": "stdout",
     "output_type": "stream",
     "text": [
      "Title: Siddhartha\n",
      "Author: Hermann Hesse\n",
      "Genre: Philosophy\n"
     ]
    }
   ],
   "source": [
    "fiction1.display()"
   ]
  },
  {
   "cell_type": "code",
   "execution_count": 39,
   "id": "582f195f-1067-45bc-9bff-396a7346e970",
   "metadata": {},
   "outputs": [
    {
     "name": "stdout",
     "output_type": "stream",
     "text": [
      "Title: The First and Last Freedom\n",
      "Author: Jiddu Krishnamurti\n",
      "Topic: Objective Awareness\n"
     ]
    }
   ],
   "source": [
    "nonfiction1.display()"
   ]
  },
  {
   "cell_type": "code",
   "execution_count": 40,
   "id": "b02b6e68-2405-4d79-9fe8-3253a4e74bea",
   "metadata": {},
   "outputs": [
    {
     "name": "stdout",
     "output_type": "stream",
     "text": [
      "Title: Sprint: How to Solve Big Problems and Test New Ideas in Just Five Days\n",
      "Author: Jake Knapp\n",
      "publication_format: Hardcover\n"
     ]
    }
   ],
   "source": [
    "reference1.display()"
   ]
  },
  {
   "cell_type": "code",
   "execution_count": null,
   "id": "695c2c76-fbd6-4faa-a0ab-4165d7c36d86",
   "metadata": {},
   "outputs": [],
   "source": []
  }
 ],
 "metadata": {
  "kernelspec": {
   "display_name": "Python 3 (ipykernel)",
   "language": "python",
   "name": "python3"
  },
  "language_info": {
   "codemirror_mode": {
    "name": "ipython",
    "version": 3
   },
   "file_extension": ".py",
   "mimetype": "text/x-python",
   "name": "python",
   "nbconvert_exporter": "python",
   "pygments_lexer": "ipython3",
   "version": "3.10.8"
  }
 },
 "nbformat": 4,
 "nbformat_minor": 5
}
